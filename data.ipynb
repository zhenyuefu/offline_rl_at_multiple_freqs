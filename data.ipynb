{
 "cells": [
  {
   "cell_type": "code",
   "execution_count": 1,
   "id": "initial_id",
   "metadata": {
    "collapsed": true,
    "ExecuteTime": {
     "end_time": "2023-11-27T21:47:23.597158Z",
     "start_time": "2023-11-27T21:47:23.527273Z"
    }
   },
   "outputs": [],
   "source": [
    "import numpy as np\n",
    "import h5py\n",
    "\n",
    "\n",
    "def load_pendulum_dataset(h5path, half_angle=False):\n",
    "    dataset_file = h5py.File(h5path, \"r\")\n",
    "    dataset = dict(\n",
    "        observations=dataset_file[\"obs\"][:].astype(np.float32),\n",
    "        actions=dataset_file[\"actions\"][:].astype(np.float32),\n",
    "        next_observations=dataset_file[\"next_obs\"][:].astype(np.float32),\n",
    "        rewards=dataset_file[\"rewards\"][:].astype(np.float32),\n",
    "        dones=dataset_file[\"dones\"][:].astype(np.float32),\n",
    "    )\n",
    "    \n",
    "    return dataset\n",
    "\n",
    "def save_pendulum_dataset(h5path, dataset):\n",
    "    dataset_file = h5py.File(h5path, \"w\")\n",
    "    dataset_file.create_dataset(\"obs\", data=dataset[\"observations\"])\n",
    "    dataset_file.create_dataset(\"actions\", data=dataset[\"actions\"])\n",
    "    dataset_file.create_dataset(\"next_obs\", data=dataset[\"next_observations\"])\n",
    "    dataset_file.create_dataset(\"rewards\", data=dataset[\"rewards\"])\n",
    "    dataset_file.create_dataset(\"dones\", data=dataset[\"dones\"])\n",
    "    dataset_file.close()"
   ]
  },
  {
   "cell_type": "code",
   "execution_count": 2,
   "outputs": [],
   "source": [
    "dataset = load_pendulum_dataset(\"/Users/zhenyue/Projects/M2/rlmf/offline_rl_at_multiple_freqs/dau/pendulum_dataset_01.hdf5\")"
   ],
   "metadata": {
    "collapsed": false,
    "ExecuteTime": {
     "end_time": "2023-11-27T21:47:23.610236Z",
     "start_time": "2023-11-27T21:47:23.598689Z"
    }
   },
   "id": "f355dcacb5961d86"
  },
  {
   "cell_type": "code",
   "execution_count": 3,
   "outputs": [
    {
     "ename": "IndexError",
     "evalue": "index 0 is out of bounds for axis 0 with size 0",
     "output_type": "error",
     "traceback": [
      "\u001B[0;31m---------------------------------------------------------------------------\u001B[0m",
      "\u001B[0;31mIndexError\u001B[0m                                Traceback (most recent call last)",
      "Cell \u001B[0;32mIn[3], line 2\u001B[0m\n\u001B[1;32m      1\u001B[0m \u001B[38;5;66;03m# dataset[\"observations\"]中第一个全为0的数据indice\u001B[39;00m\n\u001B[0;32m----> 2\u001B[0m obs_end_indice \u001B[38;5;241m=\u001B[39m \u001B[43mnp\u001B[49m\u001B[38;5;241;43m.\u001B[39;49m\u001B[43mwhere\u001B[49m\u001B[43m(\u001B[49m\u001B[43mnp\u001B[49m\u001B[38;5;241;43m.\u001B[39;49m\u001B[43mall\u001B[49m\u001B[43m(\u001B[49m\u001B[43mdataset\u001B[49m\u001B[43m[\u001B[49m\u001B[38;5;124;43m\"\u001B[39;49m\u001B[38;5;124;43mobservations\u001B[39;49m\u001B[38;5;124;43m\"\u001B[39;49m\u001B[43m]\u001B[49m\u001B[43m \u001B[49m\u001B[38;5;241;43m==\u001B[39;49m\u001B[43m \u001B[49m\u001B[38;5;241;43m0\u001B[39;49m\u001B[43m,\u001B[49m\u001B[43m \u001B[49m\u001B[43maxis\u001B[49m\u001B[38;5;241;43m=\u001B[39;49m\u001B[38;5;241;43m1\u001B[39;49m\u001B[43m)\u001B[49m\u001B[43m)\u001B[49m\u001B[43m[\u001B[49m\u001B[38;5;241;43m0\u001B[39;49m\u001B[43m]\u001B[49m\u001B[43m[\u001B[49m\u001B[38;5;241;43m0\u001B[39;49m\u001B[43m]\u001B[49m\n",
      "\u001B[0;31mIndexError\u001B[0m: index 0 is out of bounds for axis 0 with size 0"
     ]
    }
   ],
   "source": [
    "# dataset[\"observations\"]中第一个全为0的数据indice\n",
    "obs_end_indice = np.where(np.all(dataset[\"observations\"] == 0, axis=1))[0][0]"
   ],
   "metadata": {
    "collapsed": false,
    "ExecuteTime": {
     "end_time": "2023-11-27T21:47:23.758386Z",
     "start_time": "2023-11-27T21:47:23.611158Z"
    }
   },
   "id": "f8b56dc8714d1ea6"
  },
  {
   "cell_type": "code",
   "execution_count": null,
   "outputs": [],
   "source": [
    "obs_end_indice = 1000000"
   ],
   "metadata": {
    "collapsed": false,
    "ExecuteTime": {
     "start_time": "2023-11-27T21:47:23.758315Z"
    }
   },
   "id": "74356fba7e05733c"
  },
  {
   "cell_type": "code",
   "execution_count": null,
   "outputs": [],
   "source": [
    "dataset[\"observations\"] = dataset[\"observations\"][:obs_end_indice]\n",
    "dataset[\"actions\"] = dataset[\"actions\"][:obs_end_indice]\n",
    "dataset[\"next_observations\"] = dataset[\"next_observations\"][:obs_end_indice]\n",
    "dataset[\"rewards\"] = dataset[\"rewards\"][:obs_end_indice]\n",
    "dataset[\"dones\"] = dataset[\"dones\"][:obs_end_indice]\n",
    "\n"
   ],
   "metadata": {
    "collapsed": false,
    "ExecuteTime": {
     "start_time": "2023-11-27T21:47:23.760216Z"
    }
   },
   "id": "23728e5c8a57ba05"
  },
  {
   "cell_type": "code",
   "execution_count": 4,
   "outputs": [],
   "source": [
    "save_pendulum_dataset(\"/Users/zhenyue/Projects/M2/rlmf/offline_rl_at_multiple_freqs/dau/pendulum_01.hdf5\", dataset)"
   ],
   "metadata": {
    "collapsed": false,
    "ExecuteTime": {
     "end_time": "2023-11-27T21:47:26.049608Z",
     "start_time": "2023-11-27T21:47:26.028106Z"
    }
   },
   "id": "ea415a70cd175694"
  },
  {
   "cell_type": "code",
   "execution_count": null,
   "outputs": [],
   "source": [],
   "metadata": {
    "collapsed": false
   },
   "id": "aff1739ac073bc1f"
  }
 ],
 "metadata": {
  "kernelspec": {
   "display_name": "Python 3",
   "language": "python",
   "name": "python3"
  },
  "language_info": {
   "codemirror_mode": {
    "name": "ipython",
    "version": 2
   },
   "file_extension": ".py",
   "mimetype": "text/x-python",
   "name": "python",
   "nbconvert_exporter": "python",
   "pygments_lexer": "ipython2",
   "version": "2.7.6"
  }
 },
 "nbformat": 4,
 "nbformat_minor": 5
}
